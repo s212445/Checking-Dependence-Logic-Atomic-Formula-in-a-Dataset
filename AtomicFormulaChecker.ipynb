{
 "cells": [
  {
   "cell_type": "code",
   "execution_count": 1,
   "metadata": {},
   "outputs": [],
   "source": [
    "import pandas as pd\n",
    "import numpy as np\n",
    "from itertools import combinations"
   ]
  },
  {
   "cell_type": "code",
   "execution_count": 2,
   "metadata": {},
   "outputs": [
    {
     "data": {
      "text/html": [
       "<div>\n",
       "<style scoped>\n",
       "    .dataframe tbody tr th:only-of-type {\n",
       "        vertical-align: middle;\n",
       "    }\n",
       "\n",
       "    .dataframe tbody tr th {\n",
       "        vertical-align: top;\n",
       "    }\n",
       "\n",
       "    .dataframe thead th {\n",
       "        text-align: right;\n",
       "    }\n",
       "</style>\n",
       "<table border=\"1\" class=\"dataframe\">\n",
       "  <thead>\n",
       "    <tr style=\"text-align: right;\">\n",
       "      <th></th>\n",
       "      <th>x0</th>\n",
       "      <th>x1</th>\n",
       "      <th>x2</th>\n",
       "      <th>x3</th>\n",
       "    </tr>\n",
       "  </thead>\n",
       "  <tbody>\n",
       "    <tr>\n",
       "      <th>0</th>\n",
       "      <td>1</td>\n",
       "      <td>3</td>\n",
       "      <td>4</td>\n",
       "      <td>1</td>\n",
       "    </tr>\n",
       "    <tr>\n",
       "      <th>1</th>\n",
       "      <td>1</td>\n",
       "      <td>1</td>\n",
       "      <td>2</td>\n",
       "      <td>1</td>\n",
       "    </tr>\n",
       "    <tr>\n",
       "      <th>2</th>\n",
       "      <td>1</td>\n",
       "      <td>1</td>\n",
       "      <td>1</td>\n",
       "      <td>1</td>\n",
       "    </tr>\n",
       "    <tr>\n",
       "      <th>3</th>\n",
       "      <td>2</td>\n",
       "      <td>4</td>\n",
       "      <td>1</td>\n",
       "      <td>1</td>\n",
       "    </tr>\n",
       "    <tr>\n",
       "      <th>4</th>\n",
       "      <td>2</td>\n",
       "      <td>4</td>\n",
       "      <td>1</td>\n",
       "      <td>1</td>\n",
       "    </tr>\n",
       "    <tr>\n",
       "      <th>5</th>\n",
       "      <td>2</td>\n",
       "      <td>4</td>\n",
       "      <td>1</td>\n",
       "      <td>1</td>\n",
       "    </tr>\n",
       "    <tr>\n",
       "      <th>6</th>\n",
       "      <td>3</td>\n",
       "      <td>2</td>\n",
       "      <td>2</td>\n",
       "      <td>1</td>\n",
       "    </tr>\n",
       "    <tr>\n",
       "      <th>7</th>\n",
       "      <td>3</td>\n",
       "      <td>1</td>\n",
       "      <td>2</td>\n",
       "      <td>1</td>\n",
       "    </tr>\n",
       "  </tbody>\n",
       "</table>\n",
       "</div>"
      ],
      "text/plain": [
       "   x0  x1  x2  x3\n",
       "0   1   3   4   1\n",
       "1   1   1   2   1\n",
       "2   1   1   1   1\n",
       "3   2   4   1   1\n",
       "4   2   4   1   1\n",
       "5   2   4   1   1\n",
       "6   3   2   2   1\n",
       "7   3   1   2   1"
      ]
     },
     "execution_count": 2,
     "metadata": {},
     "output_type": "execute_result"
    }
   ],
   "source": [
    "f = pd.read_csv('D_data.csv')\n",
    "f"
   ]
  },
  {
   "attachments": {},
   "cell_type": "markdown",
   "metadata": {},
   "source": [
    "- to show that it is not the case thax =(x0,x1) it is enough to find one value of x0 such that the assignments with it have different values of x1\n",
    "the dependence arguments and dependent variable are named left,right respectively\n",
    "- arguments \n",
    "    1. dataframe\n",
    "    2. left - string/list of strings (names of columns from the dataframe)\n",
    "    3. right - string (names of column from the dataframe)"
   ]
  },
  {
   "cell_type": "code",
   "execution_count": 3,
   "metadata": {},
   "outputs": [],
   "source": [
    "def check_dependence(df,left_cols,right_col):\n",
    "    # find columns from the dataframe present in the atomic formula of dependence logic\n",
    "    if type(left_cols) == str:\n",
    "        list_of_cols = [left_cols,right_col]\n",
    "    else:\n",
    "        list_of_cols = left_cols.copy()\n",
    "        list_of_cols.append(right_col)\n",
    "        \n",
    "    #group the data by all possible combinations of the left_cols values\n",
    "    g = df[list_of_cols].groupby(left_cols)[right_col].nunique()\n",
    "\n",
    "    #check whether one combination has multiple possible values in right_col\n",
    "    if len(g[g > 1])==0:\n",
    "        return True\n",
    "    else:\n",
    "        return False"
   ]
  },
  {
   "cell_type": "code",
   "execution_count": 4,
   "metadata": {},
   "outputs": [
    {
     "data": {
      "text/plain": [
       "False"
      ]
     },
     "execution_count": 4,
     "metadata": {},
     "output_type": "execute_result"
    }
   ],
   "source": [
    "# check_dependence(f,'x0','x1') #results in False\n",
    "# check_dependence(f[f['x0']==2],['x0'],'x1') #results in True\n",
    "check_dependence(f,['x0','x1'],'x2') #results in False"
   ]
  },
  {
   "cell_type": "code",
   "execution_count": 5,
   "metadata": {},
   "outputs": [],
   "source": [
    "def generate_potential_depedences(columns,max_number_of_left_cols):\n",
    "    dependences_to_check = []\n",
    "    for r in columns: #iterate over right columns\n",
    "        right_col = r\n",
    "        potential_left_cols = list(columns.drop(right_col))\n",
    "        for i in np.arange(start=1,stop=max_number_of_left_cols+1,step=1): #iterate over possible numbers of left columns\n",
    "            left_cols = list(combinations(potential_left_cols,r = int(i))) #iterate over all possible combinations of left columns\n",
    "            #agg left_cols and right_col into a list\n",
    "            for l in left_cols:\n",
    "                dependences_to_check.append([list(l),right_col])\n",
    "                #dependences_to_check_df['left_cols'] = list(l)\n",
    "                #dependences_to_check_df['right_col'] = right_col\n",
    "    return dependences_to_check\n"
   ]
  },
  {
   "cell_type": "code",
   "execution_count": 6,
   "metadata": {},
   "outputs": [],
   "source": [
    "def find_dependencies(df,max_number_of_left_cols=1):\n",
    "    potential_dependencies = generate_potential_depedences(df.columns,max_number_of_left_cols)\n",
    "    print(potential_dependencies)\n",
    "    potential_dependencies_df =pd.DataFrame(potential_dependencies, columns=['left_cols', 'right_col'])   \n",
    "    potential_dependencies_df['result'] = potential_dependencies_df.apply(lambda x: check_dependence(df,x['left_cols'],x['right_col']),axis=1)\n",
    "    return potential_dependencies_df[potential_dependencies_df['result']==True]"
   ]
  },
  {
   "cell_type": "code",
   "execution_count": 7,
   "metadata": {},
   "outputs": [
    {
     "name": "stdout",
     "output_type": "stream",
     "text": [
      "[[['x1'], 'x0'], [['x2'], 'x0'], [['x3'], 'x0'], [['x1', 'x2'], 'x0'], [['x1', 'x3'], 'x0'], [['x2', 'x3'], 'x0'], [['x0'], 'x1'], [['x2'], 'x1'], [['x3'], 'x1'], [['x0', 'x2'], 'x1'], [['x0', 'x3'], 'x1'], [['x2', 'x3'], 'x1'], [['x0'], 'x2'], [['x1'], 'x2'], [['x3'], 'x2'], [['x0', 'x1'], 'x2'], [['x0', 'x3'], 'x2'], [['x1', 'x3'], 'x2'], [['x0'], 'x3'], [['x1'], 'x3'], [['x2'], 'x3'], [['x0', 'x1'], 'x3'], [['x0', 'x2'], 'x3'], [['x1', 'x2'], 'x3']]\n"
     ]
    }
   ],
   "source": [
    "x = find_dependencies(f,2)"
   ]
  }
 ],
 "metadata": {
  "kernelspec": {
   "display_name": "Python 3.10.4 64-bit",
   "language": "python",
   "name": "python3"
  },
  "language_info": {
   "codemirror_mode": {
    "name": "ipython",
    "version": 3
   },
   "file_extension": ".py",
   "mimetype": "text/x-python",
   "name": "python",
   "nbconvert_exporter": "python",
   "pygments_lexer": "ipython3",
   "version": "3.10.4"
  },
  "orig_nbformat": 4,
  "vscode": {
   "interpreter": {
    "hash": "8cf821282c086fe9c2695e125d74c6f899549b2b4ee125029bfd5b2945bc0648"
   }
  }
 },
 "nbformat": 4,
 "nbformat_minor": 2
}
